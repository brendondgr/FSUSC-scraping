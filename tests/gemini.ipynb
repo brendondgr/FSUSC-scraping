{
 "cells": [
  {
   "cell_type": "code",
   "execution_count": 11,
   "id": "8a1af682",
   "metadata": {},
   "outputs": [],
   "source": [
    "from google import genai"
   ]
  },
  {
   "cell_type": "code",
   "execution_count": 12,
   "id": "42242449",
   "metadata": {},
   "outputs": [],
   "source": [
    "client = genai.Client(api_key=open(\"../api_key.txt\", \"r\").read())"
   ]
  },
  {
   "cell_type": "code",
   "execution_count": null,
   "id": "8b72a60a",
   "metadata": {
    "vscode": {
     "languageId": "plaintext"
    }
   },
   "outputs": [],
   "source": [
    "response = client.models.generate_content(\n",
    "    model=\"gemini-2.5-flash\",\n",
    "    contents=\"Explain how AI works in a few words\",\n",
    ")\n",
    "\n",
    "print(response.text)"
   ]
  },
  {
   "cell_type": "code",
   "execution_count": null,
   "id": "59cb9793",
   "metadata": {
    "vscode": {
     "languageId": "plaintext"
    }
   },
   "outputs": [],
   "source": [
    "from google import genai\n",
    "\n",
    "client = genai.Client()\n",
    "\n",
    "response = client.models.generate_content(\n",
    "    model=\"gemini-2.5-flash\",\n",
    "    contents=\"Explain how AI works in a few words\",\n",
    ")\n",
    "\n",
    "print(response.text)"
   ]
  },
  {
   "cell_type": "code",
   "execution_count": 13,
   "id": "d317c566",
   "metadata": {},
   "outputs": [],
   "source": [
    "instructions = \"The following is the raw textual data from an HTML Website. Please take the data and create a clear and organized structure for the data in a textual format.\"\n",
    "\n",
    "raw_data = open(\"../raw_data/Accounts.txt\", \"r\").read()"
   ]
  },
  {
   "cell_type": "code",
   "execution_count": 14,
   "id": "98c59962",
   "metadata": {},
   "outputs": [
    {
     "name": "stdout",
     "output_type": "stream",
     "text": [
      "Here is the organized structure of the provided data:\n",
      "\n",
      "**Title:** Account Policy - FSUSciComp\n",
      "**URL:** https://www.sc.fsu.edu/accounts?view=article&id=531:account-policy&catid=96:tech-docs\n",
      "\n",
      "---\n",
      "\n",
      "**Account Policy**\n",
      "\n",
      "This policy outlines the requirements for DSC (Department of Scientific Computing) users and sponsors regarding account management, specifically focusing on password changes, sponsored account upkeep, and preventing orphaned accounts.\n",
      "\n",
      "**Important Note:** Only DSC faculty and Staff are allowed to sponsor accounts.\n",
      "\n",
      "---\n",
      "\n",
      "**I. Password Expiration (for account owners)**\n",
      "\n",
      "This section details the timeline and consequences for user accounts if passwords are not changed.\n",
      "\n",
      "*   **180 days:** User receives a warning requiring a password change.\n",
      "*   **200 days:** User account is locked out. The sponsor is emailed about this action. The account owner must contact a member of the Technical Services Group (TSG) to have account access restored.\n",
      "*   **350 days:** The account owner and sponsor receive a message warning that the account data will be deleted in 10 days if the password is not changed by contacting a member of the TSG.\n",
      "*   **360 days:** The user account and all associated data are permanently deleted from the DSC file system.\n",
      "\n",
      "---\n",
      "\n",
      "**II. Sponsored Account Verification (by sponsor)**\n",
      "\n",
      "This section outlines the requirements for sponsors to verify the continued need for sponsored accounts.\n",
      "\n",
      "*   **180 days:** The sponsor receives a warning requiring verification of continued sponsorship.\n",
      "*   **200 days:** The sponsored account is locked, preventing the account owner from logging in. The sponsor is informed of this action via email. The sponsor must contact a member of the TSG to have account access restored.\n",
      "*   **350 days:** The account owner and sponsor receive a message warning that the account and associated data will be deleted from the DSC file systems.\n",
      "*   **360 days:** The sponsored account and all associated data are permanently deleted from the DSC file systems.\n",
      "\n",
      "---\n",
      "\n",
      "**III. Sponsoring Account Removal (due to sponsor's password not changing)**\n",
      "\n",
      "This section details the consequences for both sponsoring and sponsored accounts if the sponsor fails to change their own password.\n",
      "\n",
      "*   **220 days:** The sponsoring and all associated sponsored accounts receive a warning.\n",
      "*   **290 days:** The sponsoring and all associated sponsored accounts are locked.\n",
      "*   **350 days:** The sponsoring and all associated sponsored accounts receive a message warning that the accounts and associated data will be deleted in 10 days.\n",
      "*   **360 days:** The sponsoring and all associated sponsored accounts, along with their data, are permanently deleted from the DSC file systems.\n"
     ]
    }
   ],
   "source": [
    "response = client.models.generate_content(\n",
    "    model=\"gemini-2.5-flash\",\n",
    "    contents=instructions + \"\\n\\n\" + raw_data,\n",
    ")\n",
    "\n",
    "print(response.text)"
   ]
  },
  {
   "cell_type": "code",
   "execution_count": null,
   "id": "2e62d003",
   "metadata": {
    "vscode": {
     "languageId": "plaintext"
    }
   },
   "outputs": [],
   "source": [
    "from google import genai\n",
    "\n",
    "client = genai.Client()\n",
    "\n",
    "response = client.models.generate_content(\n",
    "    model=\"gemini-2.5-flash\",\n",
    "    contents=\"Explain how AI works in a few words\",\n",
    ")\n",
    "\n",
    "print(response.text)"
   ]
  },
  {
   "cell_type": "code",
   "execution_count": null,
   "id": "9a075c23",
   "metadata": {
    "vscode": {
     "languageId": "plaintext"
    }
   },
   "outputs": [],
   "source": [
    "from google import genai\n",
    "\n",
    "client = genai.Client()\n",
    "\n",
    "response = client.models.generate_content(\n",
    "    model=\"gemini-2.5-flash\",\n",
    "    contents=\"Explain how AI works in a few words\",\n",
    ")\n",
    "\n",
    "print(response.text)"
   ]
  },
  {
   "cell_type": "code",
   "execution_count": null,
   "id": "deb65958",
   "metadata": {
    "vscode": {
     "languageId": "plaintext"
    }
   },
   "outputs": [],
   "source": [
    "from google import genai\n",
    "\n",
    "client = genai.Client()\n",
    "\n",
    "response = client.models.generate_content(\n",
    "    model=\"gemini-2.5-flash\",\n",
    "    contents=\"Explain how AI works in a few words\",\n",
    ")\n",
    "\n",
    "print(response.text)"
   ]
  },
  {
   "cell_type": "code",
   "execution_count": null,
   "id": "b43a0b68",
   "metadata": {
    "vscode": {
     "languageId": "plaintext"
    }
   },
   "outputs": [],
   "source": [
    "from google import genai\n",
    "\n",
    "client = genai.Client()\n",
    "\n",
    "response = client.models.generate_content(\n",
    "    model=\"gemini-2.5-flash\",\n",
    "    contents=\"Explain how AI works in a few words\",\n",
    ")\n",
    "\n",
    "print(response.text)"
   ]
  },
  {
   "cell_type": "code",
   "execution_count": null,
   "id": "6930816a",
   "metadata": {
    "vscode": {
     "languageId": "plaintext"
    }
   },
   "outputs": [],
   "source": [
    "from google import genai\n",
    "\n",
    "client = genai.Client()\n",
    "\n",
    "response = client.models.generate_content(\n",
    "    model=\"gemini-2.5-flash\",\n",
    "    contents=\"Explain how AI works in a few words\",\n",
    ")\n",
    "\n",
    "print(response.text)"
   ]
  },
  {
   "cell_type": "code",
   "execution_count": null,
   "id": "059fdd6f",
   "metadata": {
    "vscode": {
     "languageId": "plaintext"
    }
   },
   "outputs": [],
   "source": [
    "from google import genai\n",
    "\n",
    "client = genai.Client()\n",
    "\n",
    "response = client.models.generate_content(\n",
    "    model=\"gemini-2.5-flash\",\n",
    "    contents=\"Explain how AI works in a few words\",\n",
    ")\n",
    "\n",
    "print(response.text)"
   ]
  },
  {
   "cell_type": "code",
   "execution_count": null,
   "id": "bce38349",
   "metadata": {
    "vscode": {
     "languageId": "plaintext"
    }
   },
   "outputs": [],
   "source": [
    "from google import genai\n",
    "\n",
    "client = genai.Client()\n",
    "\n",
    "response = client.models.generate_content(\n",
    "    model=\"gemini-2.5-flash\",\n",
    "    contents=\"Explain how AI works in a few words\",\n",
    ")\n",
    "\n",
    "print(response.text)"
   ]
  },
  {
   "cell_type": "code",
   "execution_count": null,
   "id": "59bd9a2d",
   "metadata": {
    "vscode": {
     "languageId": "plaintext"
    }
   },
   "outputs": [],
   "source": [
    "from google import genai\n",
    "\n",
    "client = genai.Client()\n",
    "\n",
    "response = client.models.generate_content(\n",
    "    model=\"gemini-2.5-flash\",\n",
    "    contents=\"Explain how AI works in a few words\",\n",
    ")\n",
    "\n",
    "print(response.text)"
   ]
  },
  {
   "cell_type": "code",
   "execution_count": null,
   "id": "5826a3a6",
   "metadata": {
    "vscode": {
     "languageId": "plaintext"
    }
   },
   "outputs": [],
   "source": [
    "from google import genai\n",
    "\n",
    "client = genai.Client()\n",
    "\n",
    "response = client.models.generate_content(\n",
    "    model=\"gemini-2.5-flash\",\n",
    "    contents=\"Explain how AI works in a few words\",\n",
    ")\n",
    "\n",
    "print(response.text)"
   ]
  },
  {
   "cell_type": "code",
   "execution_count": null,
   "id": "382fd37b",
   "metadata": {
    "vscode": {
     "languageId": "plaintext"
    }
   },
   "outputs": [],
   "source": [
    "from google import genai\n",
    "\n",
    "client = genai.Client()\n",
    "\n",
    "response = client.models.generate_content(\n",
    "    model=\"gemini-2.5-flash\",\n",
    "    contents=\"Explain how AI works in a few words\",\n",
    ")\n",
    "\n",
    "print(response.text)"
   ]
  },
  {
   "cell_type": "code",
   "execution_count": null,
   "id": "48963feb",
   "metadata": {
    "vscode": {
     "languageId": "plaintext"
    }
   },
   "outputs": [],
   "source": [
    "from google import genai\n",
    "\n",
    "client = genai.Client()\n",
    "\n",
    "response = client.models.generate_content(\n",
    "    model=\"gemini-2.5-flash\",\n",
    "    contents=\"Explain how AI works in a few words\",\n",
    ")\n",
    "\n",
    "print(response.text)"
   ]
  },
  {
   "cell_type": "code",
   "execution_count": 15,
   "id": "964a55c5",
   "metadata": {},
   "outputs": [],
   "source": [
    "with open(\"../refined_data/Accounts.txt\", \"w\") as f:\n",
    "    f.write(response.text)"
   ]
  }
 ],
 "metadata": {
  "kernelspec": {
   "display_name": "scrape",
   "language": "python",
   "name": "python3"
  },
  "language_info": {
   "codemirror_mode": {
    "name": "ipython",
    "version": 3
   },
   "file_extension": ".py",
   "mimetype": "text/x-python",
   "name": "python",
   "nbconvert_exporter": "python",
   "pygments_lexer": "ipython3",
   "version": "3.10.18"
  }
 },
 "nbformat": 4,
 "nbformat_minor": 5
}
