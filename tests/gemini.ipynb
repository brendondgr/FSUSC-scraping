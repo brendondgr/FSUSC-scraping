{
 "cells": [
  {
   "cell_type": "code",
   "execution_count": null,
   "id": "8a1af682",
   "metadata": {},
   "outputs": [],
   "source": [
    "from google import genai\n",
    "import os"
   ]
  },
  {
   "cell_type": "code",
   "execution_count": null,
   "id": "42242449",
   "metadata": {},
   "outputs": [],
   "source": [
    "client = genai.Client(api_key=open(\"../api_key.txt\", \"r\").read())"
   ]
  },
  {
   "cell_type": "code",
   "execution_count": null,
   "id": "f1326e99",
   "metadata": {},
   "outputs": [],
   "source": [
    "# Get list of files in refined_data/Non-LaTeX directory\n",
    "files = os.listdir(\"../refined_data/Non-LaTeX/\")\n",
    "\n",
    "# Remove .txt endings and store in items list\n",
    "items = [f[:-4] for f in files if f.endswith('.txt')]\n",
    "\n",
    "# Convert the list to a string.\n",
    "items.sort()\n",
    "\n",
    "# Convert items list to string with newlines between items\n",
    "items_str = \", \".join(items)\n",
    "\n",
    "# Print the string\n",
    "print(items_str)"
   ]
  },
  {
   "cell_type": "code",
   "execution_count": null,
   "id": "d317c566",
   "metadata": {},
   "outputs": [],
   "source": [
    "instructions = f\"The following list of items are the names of the files in the ../refined_data/Non-LaTeX/ directory. I am trying to order them by what is the most and least important for a student looking to find information, and I would like to organize it by the most to least important, also grouped by type. Please return the list in the order in which it should appear for a student looking to find information. Please return it in the format: '['Home.txt', 'Chairs-intro.txt']' etc, in whatever order you think is best. Here is the current list: {items_str}\""
   ]
  },
  {
   "cell_type": "code",
   "execution_count": null,
   "id": "98c59962",
   "metadata": {},
   "outputs": [],
   "source": [
    "response = client.models.generate_content(\n",
    "    model=\"gemini-2.5-flash\",\n",
    "    contents=instructions,\n",
    ")\n",
    "\n",
    "print(response.text)"
   ]
  },
  {
   "cell_type": "code",
   "execution_count": 3,
   "id": "5ae3f2b8",
   "metadata": {},
   "outputs": [],
   "source": [
    "import os\n",
    "\n",
    "list_of_files = [\n",
    "    # Core Student Information / Getting Started\n",
    "    'Home.txt',\n",
    "    'FAQ.txt',\n",
    "    'Contact-us.txt',\n",
    "    'Education.txt',\n",
    "    'Courses.txt',\n",
    "    'Advising.txt',\n",
    "    'Remote-course-resources.txt',\n",
    "    'Emergency.txt',\n",
    "\n",
    "    # People & Community\n",
    "    'People.txt',\n",
    "    'Student-groups.txt',\n",
    "    'Chairs-intro.txt',\n",
    "\n",
    "    # Career & Post-Graduation\n",
    "    'Jobs.txt',\n",
    "    # 'JobsStudent-positions.txt',\n",
    "    # 'JobsPostdoc-positions.txt',\n",
    "    # 'JobsProfessional-positions.txt',\n",
    "    # 'Careers.txt',\n",
    "    'Job-placements.txt',\n",
    "\n",
    "    # Academic & Research Resources\n",
    "    'Graduate.txt',\n",
    "    'ResearchFaculty.txt',\n",
    "    # 'ResearchGroups.txt',\n",
    "    # 'Publications.txt',\n",
    "    'Computing.txt',\n",
    "    'Software.txt',\n",
    "    'TechDocuments.txt',\n",
    "    # 'Morphlab.txt',\n",
    "    'ResearchSimulation-gallery.txt',\n",
    "\n",
    "    # Campus Life & Facilities\n",
    "    'Facilities.txt',\n",
    "    'RoomReservations.txt',\n",
    "    # 'Contact-usDirections.txt',\n",
    "\n",
    "    # Navigation & General Info\n",
    "    # 'Search.txt',\n",
    "    # 'SearchSite-map.txt',\n",
    "    'Links.txt',\n",
    "\n",
    "    # Administrative / Less Common Student Need\n",
    "    'Committees.txt',\n",
    "    'Accounts.txt',\n",
    "    # 'By-laws.txt',\n",
    "    # 'Committee-history.txt',\n",
    "    # 'Faculty-meetings.txt'\n",
    "]"
   ]
  },
  {
   "cell_type": "code",
   "execution_count": 4,
   "id": "5d22defb",
   "metadata": {},
   "outputs": [],
   "source": [
    "# Combine all LaTeX files into one\n",
    "combined_tex = \"\"\n",
    "for file in list_of_files:\n",
    "    tex_path = f\"../refined_data/LaTeX/{file}\"\n",
    "    try:\n",
    "        with open(tex_path, 'r', encoding='utf-8') as f:\n",
    "            combined_tex += f.read() + \"\\n\\n\"\n",
    "    except FileNotFoundError:\n",
    "        print(f\"File not found: {tex_path}\")\n",
    "        continue\n",
    "\n",
    "# Save combined tex file\n",
    "output_path = \"../tex/fsusc_combined.tex\"\n",
    "os.makedirs(os.path.dirname(output_path), exist_ok=True)\n",
    "with open(output_path, 'w', encoding='utf-8') as f:\n",
    "    f.write(combined_tex)"
   ]
  }
 ],
 "metadata": {
  "kernelspec": {
   "display_name": "scrape",
   "language": "python",
   "name": "python3"
  },
  "language_info": {
   "codemirror_mode": {
    "name": "ipython",
    "version": 3
   },
   "file_extension": ".py",
   "mimetype": "text/x-python",
   "name": "python",
   "nbconvert_exporter": "python",
   "pygments_lexer": "ipython3",
   "version": "3.10.18"
  }
 },
 "nbformat": 4,
 "nbformat_minor": 5
}
